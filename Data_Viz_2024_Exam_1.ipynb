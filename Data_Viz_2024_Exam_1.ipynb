{
  "nbformat": 4,
  "nbformat_minor": 0,
  "metadata": {
    "colab": {
      "provenance": [],
      "authorship_tag": "ABX9TyNVHgHcPsEtZncJiTv8s8lb",
      "include_colab_link": true
    },
    "kernelspec": {
      "name": "python3",
      "display_name": "Python 3"
    },
    "language_info": {
      "name": "python"
    }
  },
  "cells": [
    {
      "cell_type": "markdown",
      "metadata": {
        "id": "view-in-github",
        "colab_type": "text"
      },
      "source": [
        "<a href=\"https://colab.research.google.com/github/Jirapat2035/python_dataviz2024/blob/main/Data_Viz_2024_Exam_1.ipynb\" target=\"_parent\"><img src=\"https://colab.research.google.com/assets/colab-badge.svg\" alt=\"Open In Colab\"/></a>"
      ]
    },
    {
      "cell_type": "code",
      "source": [
        "import pandas as pd\n",
        "\n",
        "# 1. โหลดข้อมูลจากไฟล์ Excel\n",
        "data = pd.read_excel('test-TidyData_2024.xlsx')\n",
        "\n",
        "# 2. แยกปีออกจากคอลัมน์ 'month'\n",
        "data['Year'] = data['month'].str.split('_').str[1]\n",
        "\n",
        "# 3. กรองข้อมูลตามปี\n",
        "data_2018 = data[data['Year'] == '2018']\n",
        "data_2019 = data[data['Year'] == '2019']\n",
        "\n",
        "# 4. คำนวณค่าเฉลี่ยของ Chlo_a สำหรับแต่ละสถานีในแต่ละปี\n",
        "mean_2018 = data_2018.groupby('station')['Chlo_a'].mean()\n",
        "mean_2019 = data_2019.groupby('station')['Chlo_a'].mean()\n",
        "\n",
        "# 5. คำนวณความแตกต่างของค่าเฉลี่ยระหว่างปี 2018 และ 2019\n",
        "difference = mean_2018 - mean_2019\n",
        "\n",
        "# 6. แสดงผลลัพธ์\n",
        "print(\"ความแตกต่างของค่าเฉลี่ย Chlo_a ระหว่างปี 2018 และ 2019 สำหรับแต่ละstation:\")\n",
        "print(difference)\n"
      ],
      "metadata": {
        "colab": {
          "base_uri": "https://localhost:8080/"
        },
        "id": "AlSCU3wOU9L_",
        "outputId": "d4fe3d4f-07d8-4b99-dd74-042bf5157b31"
      },
      "execution_count": null,
      "outputs": [
        {
          "output_type": "stream",
          "name": "stdout",
          "text": [
            "ความแตกต่างของค่าเฉลี่ย Chlo_a ระหว่างปี 2018 และ 2019 สำหรับแต่ละstation:\n",
            "station\n",
            "1    0.034261\n",
            "2    0.020201\n",
            "3    0.030228\n",
            "4    0.025173\n",
            "5    0.023331\n",
            "6    0.028215\n",
            "Name: Chlo_a, dtype: float64\n"
          ]
        }
      ]
    },
    {
      "cell_type": "code",
      "source": [
        "import pandas as pd\n",
        "\n",
        "# 1. โหลดข้อมูลจากไฟล์ Excel\n",
        "data = pd.read_excel('test-TidyData_2024.xlsx')\n",
        "\n",
        "# 2. แยกเดือนออกจากคอลัมน์ 'month' โดยไม่แยกปี\n",
        "data['Month'] = data['month'].str.split('_').str[0]\n",
        "\n",
        "# 3. คำนวณค่าเฉลี่ยของ Chlo_b สำหรับแต่ละสถานีในแต่ละเดือน\n",
        "average_chlo_b = data.groupby(['station', 'month'])['Chlo_b'].mean().reset_index()\n",
        "\n",
        "# 4. สร้างตาราง (pivot table) แสดงค่าเฉลี่ย Chlo_b สำหรับแต่ละสถานีในแต่ละเดือน\n",
        "pivot_table = average_chlo_b.pivot_table(index='station', columns='month', values='Chlo_b')\n",
        "\n",
        "# 5. แสดงผลลัพธ์\n",
        "print(\"ตารางค่าเฉลี่ย Chlo_b ทุกๆ Station ของแต่ละเดือน:\")\n",
        "print(pivot_table)\n"
      ],
      "metadata": {
        "colab": {
          "base_uri": "https://localhost:8080/"
        },
        "id": "bZ2xoUpJW7Vf",
        "outputId": "2e4aa803-fcbf-43ec-8121-fc0cf7fb8899"
      },
      "execution_count": null,
      "outputs": [
        {
          "output_type": "stream",
          "name": "stdout",
          "text": [
            "ตารางค่าเฉลี่ย Chlo_b ทุกๆ Station ของแต่ละเดือน:\n",
            "month    Apr_2019  Aug_2018  Dec_2018  Jan_2019  July_2018  July_2019  \\\n",
            "station                                                                 \n",
            "1        0.051381  0.075665  0.070061  0.022451   0.046688   0.014365   \n",
            "2        0.019378  0.065403  0.064375  0.014968   0.062731   0.013691   \n",
            "3        0.030775  0.065179  0.080867  0.017722   0.073561   0.017439   \n",
            "4        0.020170  0.061289  0.061951  0.012142   0.061395   0.009257   \n",
            "5        0.027015  0.060107  0.070085  0.009789   0.064623   0.011054   \n",
            "6        0.025655  0.063027  0.065663  0.013856   0.056193   0.010073   \n",
            "\n",
            "month    June_2019  May_2019  Nov_2018  Oct_2018  Sep_2018  \n",
            "station                                                     \n",
            "1         0.020548  0.015949  0.075937  0.131764  0.063890  \n",
            "2         0.013194  0.028765  0.064552  0.122767  0.074578  \n",
            "3         0.013301  0.015890  0.097963  0.106404  0.076292  \n",
            "4         0.013821  0.015559  0.070605  0.090834  0.064670  \n",
            "5         0.013880  0.016623  0.063866  0.082381  0.060733  \n",
            "6         0.008583  0.023882  0.073360  0.079449  0.061750  \n"
          ]
        }
      ]
    },
    {
      "cell_type": "code",
      "source": [
        "import pandas as pd\n",
        "\n",
        "# 1. โหลดข้อมูลจากไฟล์ Excel\n",
        "data = pd.read_excel('test-TidyData_2024.xlsx')\n",
        "\n",
        "# 2. แยกชื่อเดือนออกจากคอลัมน์ 'month' และตัดปีออก\n",
        "data['Month'] = data['month'].str.split('_').str[0]\n",
        "\n",
        "# 3. คำนวณค่าเฉลี่ยของ Chlo_b สำหรับแต่ละสถานีในแต่ละเดือน\n",
        "average_chlo_b = data.groupby(['station', 'month'])['Chlo_b'].mean().reset_index()\n",
        "\n",
        "# 4. สร้างตาราง (pivot table) แสดงค่าเฉลี่ย Chlo_b สำหรับแต่ละสถานีในแต่ละเดือน\n",
        "pivot_table = average_chlo_b.pivot_table(index='station', columns='month', values='Chlo_b')\n",
        "\n",
        "# 5. แสดงผลลัพธ์\n",
        "print(\"ตารางค่าเฉลี่ย Chlo_b ทุกๆ Station ของแต่ละเดือน:\")\n",
        "print(pivot_table)\n"
      ],
      "metadata": {
        "colab": {
          "base_uri": "https://localhost:8080/"
        },
        "id": "b5OoNqIveje0",
        "outputId": "ca7881d7-a200-4103-d0f5-2c8b71ff1f08"
      },
      "execution_count": null,
      "outputs": [
        {
          "output_type": "stream",
          "name": "stdout",
          "text": [
            "ตารางค่าเฉลี่ย Chlo_b ทุกๆ Station ของแต่ละเดือน:\n",
            "month    Apr_2019  Aug_2018  Dec_2018  Jan_2019  July_2018  July_2019  \\\n",
            "station                                                                 \n",
            "1        0.051381  0.075665  0.070061  0.022451   0.046688   0.014365   \n",
            "2        0.019378  0.065403  0.064375  0.014968   0.062731   0.013691   \n",
            "3        0.030775  0.065179  0.080867  0.017722   0.073561   0.017439   \n",
            "4        0.020170  0.061289  0.061951  0.012142   0.061395   0.009257   \n",
            "5        0.027015  0.060107  0.070085  0.009789   0.064623   0.011054   \n",
            "6        0.025655  0.063027  0.065663  0.013856   0.056193   0.010073   \n",
            "\n",
            "month    June_2019  May_2019  Nov_2018  Oct_2018  Sep_2018  \n",
            "station                                                     \n",
            "1         0.020548  0.015949  0.075937  0.131764  0.063890  \n",
            "2         0.013194  0.028765  0.064552  0.122767  0.074578  \n",
            "3         0.013301  0.015890  0.097963  0.106404  0.076292  \n",
            "4         0.013821  0.015559  0.070605  0.090834  0.064670  \n",
            "5         0.013880  0.016623  0.063866  0.082381  0.060733  \n",
            "6         0.008583  0.023882  0.073360  0.079449  0.061750  \n"
          ]
        }
      ]
    }
  ]
}